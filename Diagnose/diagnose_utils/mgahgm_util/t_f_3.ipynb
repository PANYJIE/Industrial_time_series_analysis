{
 "cells": [
  {
   "cell_type": "code",
   "execution_count": null,
   "id": "initial_id",
   "metadata": {
    "collapsed": true
   },
   "outputs": [],
   "source": []
  },
  {
   "cell_type": "code",
   "execution_count": 5,
   "outputs": [],
   "source": [
    "import time\n",
    "\n",
    "import torch.optim as optim\n",
    "from tqdm import tqdm\n",
    "\n",
    "from args import get_args\n",
    "from utils import *\n",
    "import torch\n",
    "import model.ts_flows as fnn\n",
    "import numpy as np\n",
    "\n",
    "# device = \"cuda\"\n",
    "device = \"cpu\""
   ],
   "metadata": {
    "collapsed": false,
    "ExecuteTime": {
     "end_time": "2023-10-28T08:55:00.987239700Z",
     "start_time": "2023-10-28T08:55:00.968244800Z"
    }
   },
   "id": "5880d093b4b1a888"
  },
  {
   "cell_type": "code",
   "execution_count": 235,
   "outputs": [],
   "source": [
    "\n",
    "'''===========flow============'''\n",
    "act = 'tanh'\n",
    "num_blocks = 10\n",
    "flow = fnn.MAF( n_blocks=num_blocks, input_size=3, hidden_size=3, n_hidden=4 )\n",
    "# flow = fnn.FlowSequential(flow)\n",
    "flow.to(device)\n",
    "optimizer = optim.Adam(flow.parameters(), lr=0.01, weight_decay=1e-6)"
   ],
   "metadata": {
    "collapsed": false,
    "ExecuteTime": {
     "end_time": "2023-10-28T10:44:15.831033900Z",
     "start_time": "2023-10-28T10:44:15.818024800Z"
    }
   },
   "id": "d3603016a8dcf5b1"
  },
  {
   "cell_type": "code",
   "execution_count": 236,
   "outputs": [
    {
     "name": "stdout",
     "output_type": "stream",
     "text": [
      "tensor(5.7605, grad_fn=<NegBackward0>)\n",
      "tensor(5.7437, grad_fn=<NegBackward0>)\n",
      "tensor(5.7271, grad_fn=<NegBackward0>)\n",
      "tensor(5.7100, grad_fn=<NegBackward0>)\n",
      "tensor(5.6928, grad_fn=<NegBackward0>)\n",
      "tensor(5.6748, grad_fn=<NegBackward0>)\n",
      "tensor(5.6555, grad_fn=<NegBackward0>)\n",
      "tensor(5.6348, grad_fn=<NegBackward0>)\n",
      "tensor(5.6119, grad_fn=<NegBackward0>)\n",
      "tensor(5.5868, grad_fn=<NegBackward0>)\n",
      "tensor(5.5588, grad_fn=<NegBackward0>)\n",
      "tensor(5.5292, grad_fn=<NegBackward0>)\n",
      "tensor(5.4912, grad_fn=<NegBackward0>)\n",
      "tensor(5.4497, grad_fn=<NegBackward0>)\n",
      "tensor(5.4019, grad_fn=<NegBackward0>)\n",
      "tensor(5.3457, grad_fn=<NegBackward0>)\n",
      "tensor(5.2928, grad_fn=<NegBackward0>)\n",
      "tensor(5.2304, grad_fn=<NegBackward0>)\n",
      "tensor(5.1523, grad_fn=<NegBackward0>)\n",
      "tensor(5.0736, grad_fn=<NegBackward0>)\n",
      "tensor(4.9495, grad_fn=<NegBackward0>)\n",
      "tensor(4.7714, grad_fn=<NegBackward0>)\n",
      "tensor(4.5544, grad_fn=<NegBackward0>)\n",
      "tensor(4.2408, grad_fn=<NegBackward0>)\n",
      "tensor(3.7110, grad_fn=<NegBackward0>)\n",
      "tensor(2.6616, grad_fn=<NegBackward0>)\n",
      "tensor(3.1267, grad_fn=<NegBackward0>)\n",
      "tensor(4.3624, grad_fn=<NegBackward0>)\n",
      "tensor(4.9466, grad_fn=<NegBackward0>)\n",
      "tensor(5.3293, grad_fn=<NegBackward0>)\n",
      "tensor(5.6008, grad_fn=<NegBackward0>)\n",
      "tensor(5.7933, grad_fn=<NegBackward0>)\n",
      "tensor(5.9209, grad_fn=<NegBackward0>)\n",
      "tensor(5.9901, grad_fn=<NegBackward0>)\n",
      "tensor(6.0046, grad_fn=<NegBackward0>)\n",
      "tensor(5.9543, grad_fn=<NegBackward0>)\n",
      "tensor(5.8449, grad_fn=<NegBackward0>)\n",
      "tensor(5.6760, grad_fn=<NegBackward0>)\n",
      "tensor(5.4391, grad_fn=<NegBackward0>)\n",
      "tensor(5.1131, grad_fn=<NegBackward0>)\n",
      "tensor(4.6418, grad_fn=<NegBackward0>)\n",
      "tensor(3.7455, grad_fn=<NegBackward0>)\n",
      "tensor(1.8493, grad_fn=<NegBackward0>)\n",
      "tensor(3.6408, grad_fn=<NegBackward0>)\n",
      "tensor(4.0577, grad_fn=<NegBackward0>)\n",
      "tensor(4.2223, grad_fn=<NegBackward0>)\n",
      "tensor(4.2609, grad_fn=<NegBackward0>)\n",
      "tensor(4.2028, grad_fn=<NegBackward0>)\n",
      "tensor(4.0055, grad_fn=<NegBackward0>)\n",
      "tensor(3.8568, grad_fn=<NegBackward0>)\n",
      "tensor(3.5787, grad_fn=<NegBackward0>)\n",
      "tensor(2.8802, grad_fn=<NegBackward0>)\n",
      "tensor(2.2161, grad_fn=<NegBackward0>)\n",
      "tensor(3.6472, grad_fn=<NegBackward0>)\n",
      "tensor(4.1436, grad_fn=<NegBackward0>)\n",
      "tensor(4.4586, grad_fn=<NegBackward0>)\n",
      "tensor(4.6706, grad_fn=<NegBackward0>)\n",
      "tensor(4.8097, grad_fn=<NegBackward0>)\n",
      "tensor(4.8937, grad_fn=<NegBackward0>)\n",
      "tensor(4.9405, grad_fn=<NegBackward0>)\n",
      "tensor(5.0004, grad_fn=<NegBackward0>)\n",
      "tensor(5.0060, grad_fn=<NegBackward0>)\n",
      "tensor(5.0061, grad_fn=<NegBackward0>)\n",
      "tensor(4.9353, grad_fn=<NegBackward0>)\n",
      "tensor(4.7883, grad_fn=<NegBackward0>)\n",
      "tensor(4.4779, grad_fn=<NegBackward0>)\n",
      "tensor(3.9701, grad_fn=<NegBackward0>)\n",
      "tensor(3.1820, grad_fn=<NegBackward0>)\n",
      "tensor(1.7021, grad_fn=<NegBackward0>)\n",
      "tensor(5.0130, grad_fn=<NegBackward0>)\n",
      "tensor(6.1651, grad_fn=<NegBackward0>)\n",
      "tensor(6.5343, grad_fn=<NegBackward0>)\n",
      "tensor(6.6098, grad_fn=<NegBackward0>)\n",
      "tensor(6.5151, grad_fn=<NegBackward0>)\n",
      "tensor(6.2219, grad_fn=<NegBackward0>)\n",
      "tensor(5.6360, grad_fn=<NegBackward0>)\n",
      "tensor(4.2388, grad_fn=<NegBackward0>)\n",
      "tensor(3.0717, grad_fn=<NegBackward0>)\n",
      "tensor(3.9440, grad_fn=<NegBackward0>)\n",
      "tensor(4.1431, grad_fn=<NegBackward0>)\n",
      "tensor(4.2362, grad_fn=<NegBackward0>)\n",
      "tensor(4.2306, grad_fn=<NegBackward0>)\n",
      "tensor(4.0756, grad_fn=<NegBackward0>)\n",
      "tensor(3.7471, grad_fn=<NegBackward0>)\n",
      "tensor(3.1362, grad_fn=<NegBackward0>)\n",
      "tensor(1.3224, grad_fn=<NegBackward0>)\n",
      "tensor(1.9180, grad_fn=<NegBackward0>)\n",
      "tensor(2.0144, grad_fn=<NegBackward0>)\n",
      "tensor(1.5274, grad_fn=<NegBackward0>)\n",
      "tensor(1.4254, grad_fn=<NegBackward0>)\n",
      "tensor(2.7701, grad_fn=<NegBackward0>)\n",
      "tensor(3.0435, grad_fn=<NegBackward0>)\n",
      "tensor(2.9024, grad_fn=<NegBackward0>)\n",
      "tensor(0.1509, grad_fn=<NegBackward0>)\n",
      "tensor(-1.4903, grad_fn=<NegBackward0>)\n",
      "tensor(2.7678, grad_fn=<NegBackward0>)\n",
      "tensor(3.7480, grad_fn=<NegBackward0>)\n",
      "tensor(4.2462, grad_fn=<NegBackward0>)\n",
      "tensor(4.6232, grad_fn=<NegBackward0>)\n",
      "tensor(4.9175, grad_fn=<NegBackward0>)\n"
     ]
    }
   ],
   "source": [
    "optimizer.zero_grad()\n",
    "epoch = 100\n",
    "for i in range(epoch):\n",
    "    x = torch.tensor([[[1.0,2,3],[4,5,6]]]) # [1, 2, 3]\n",
    "    cond = torch.tensor([[[1.0,1,1],[2,2,2]]])\n",
    "    cond = None\n",
    "    \n",
    "    loss = flow.log_prob(x, cond)\n",
    "    loss = -loss.mean()\n",
    "    loss.backward()\n",
    "    print(loss)\n",
    "    optimizer.step()"
   ],
   "metadata": {
    "collapsed": false,
    "ExecuteTime": {
     "end_time": "2023-10-28T10:44:17.907641500Z",
     "start_time": "2023-10-28T10:44:16.218603800Z"
    }
   },
   "id": "529a38e3688b2a6e"
  },
  {
   "cell_type": "code",
   "execution_count": 237,
   "outputs": [
    {
     "data": {
      "text/plain": "tensor([[[-0.8866, -0.8866, -0.8866],\n         [ 0.8866,  0.8866,  0.8866]]], grad_fn=<AddBackward0>)"
     },
     "execution_count": 237,
     "metadata": {},
     "output_type": "execute_result"
    }
   ],
   "source": [
    "u, _ = flow.forward(x, cond)\n",
    "u"
   ],
   "metadata": {
    "collapsed": false,
    "ExecuteTime": {
     "end_time": "2023-10-28T10:44:20.864955800Z",
     "start_time": "2023-10-28T10:44:20.833689800Z"
    }
   },
   "id": "840f48fbfa2bd02a"
  },
  {
   "cell_type": "code",
   "execution_count": 255,
   "outputs": [
    {
     "data": {
      "text/plain": "tensor([[[4.8813, 2.5117, 4.5217],\n         [2.1894, 2.4045, 6.8735]]], grad_fn=<CopySlices>)"
     },
     "execution_count": 255,
     "metadata": {},
     "output_type": "execute_result"
    }
   ],
   "source": [
    "flow.sample(x.shape[:-1])"
   ],
   "metadata": {
    "collapsed": false,
    "ExecuteTime": {
     "end_time": "2023-10-28T10:44:40.861910400Z",
     "start_time": "2023-10-28T10:44:40.832873600Z"
    }
   },
   "id": "5f1844cfcb265320"
  },
  {
   "cell_type": "code",
   "execution_count": 256,
   "outputs": [
    {
     "data": {
      "text/plain": "tensor([[[1.0000, 2.0000, 3.0000],\n         [4.0000, 5.0000, 6.0000]]], grad_fn=<CopySlices>)"
     },
     "execution_count": 256,
     "metadata": {},
     "output_type": "execute_result"
    }
   ],
   "source": [
    "y,_ = flow.inverse(u, cond)\n",
    "y"
   ],
   "metadata": {
    "collapsed": false,
    "ExecuteTime": {
     "end_time": "2023-10-28T10:44:45.926634900Z",
     "start_time": "2023-10-28T10:44:45.895383500Z"
    }
   },
   "id": "b1265f920e46f3ba"
  },
  {
   "cell_type": "code",
   "execution_count": 187,
   "outputs": [
    {
     "data": {
      "text/plain": "tensor([[ 4.4100,  7.3647, 10.3172]], grad_fn=<CopySlices>)"
     },
     "execution_count": 187,
     "metadata": {},
     "output_type": "execute_result"
    }
   ],
   "source": [
    "o = torch.tensor([[1,2,3]])\n",
    "y,_ = flow.inverse(o, cond)\n",
    "y"
   ],
   "metadata": {
    "collapsed": false,
    "ExecuteTime": {
     "end_time": "2023-10-28T10:42:25.255894700Z",
     "start_time": "2023-10-28T10:42:25.217120Z"
    }
   },
   "id": "34cc6d17df245388"
  },
  {
   "cell_type": "markdown",
   "source": [
    "torch.distributions.Normal 的使用"
   ],
   "metadata": {
    "collapsed": false
   },
   "id": "3e7ed11d7eb94719"
  },
  {
   "cell_type": "code",
   "execution_count": 161,
   "outputs": [],
   "source": [
    "from torch.distributions import Normal\n",
    "nom = Normal(torch.tensor([0.0,0,0]), torch.tensor([1.0,1,1]))\n"
   ],
   "metadata": {
    "collapsed": false,
    "ExecuteTime": {
     "end_time": "2023-10-28T09:30:00.452219700Z",
     "start_time": "2023-10-28T09:30:00.433510600Z"
    }
   },
   "id": "375901802608dcdb"
  },
  {
   "cell_type": "code",
   "execution_count": 267,
   "outputs": [
    {
     "data": {
      "text/plain": "tensor([[[-1.4506,  1.7755, -0.2086],\n         [ 1.2143, -1.2006, -1.7235]]])"
     },
     "execution_count": 267,
     "metadata": {},
     "output_type": "execute_result"
    }
   ],
   "source": [
    "nom.sample([1,2])"
   ],
   "metadata": {
    "collapsed": false,
    "ExecuteTime": {
     "end_time": "2023-10-28T10:49:40.902074800Z",
     "start_time": "2023-10-28T10:49:40.886450300Z"
    }
   },
   "id": "325f52d2db356af4"
  },
  {
   "cell_type": "code",
   "execution_count": null,
   "outputs": [],
   "source": [],
   "metadata": {
    "collapsed": false
   },
   "id": "c59c0de5fdcebf43"
  }
 ],
 "metadata": {
  "kernelspec": {
   "display_name": "Python 3",
   "language": "python",
   "name": "python3"
  },
  "language_info": {
   "codemirror_mode": {
    "name": "ipython",
    "version": 2
   },
   "file_extension": ".py",
   "mimetype": "text/x-python",
   "name": "python",
   "nbconvert_exporter": "python",
   "pygments_lexer": "ipython2",
   "version": "2.7.6"
  }
 },
 "nbformat": 4,
 "nbformat_minor": 5
}
